{
  "nbformat": 4,
  "nbformat_minor": 0,
  "metadata": {
    "celltoolbar": "Raw Cell Format",
    "kernelspec": {
      "display_name": "Python 3",
      "language": "python",
      "name": "python3"
    },
    "language_info": {
      "codemirror_mode": {
        "name": "ipython",
        "version": 3
      },
      "file_extension": ".py",
      "mimetype": "text/x-python",
      "name": "python",
      "nbconvert_exporter": "python",
      "pygments_lexer": "ipython3",
      "version": "3.6.2"
    },
    "colab": {
      "name": "code.ipynb",
      "provenance": []
    }
  },
  "cells": [
    {
      "cell_type": "code",
      "metadata": {
        "collapsed": true,
        "id": "lI5TT0ULZuop"
      },
      "source": [
        "# use in jupyter notebook\n",
        "%matplotlib inline"
      ],
      "execution_count": 9,
      "outputs": []
    },
    {
      "cell_type": "code",
      "metadata": {
        "colab": {
          "base_uri": "https://localhost:8080/",
          "height": 34
        },
        "id": "159vhZsZZuos",
        "outputId": "dd4099ba-f6cc-4b21-b4c6-7a0843345df7"
      },
      "source": [
        "# import package\n",
        "import pandas as pd\n",
        "import os\n",
        "import numpy as np\n",
        "import matplotlib.pyplot as plt\n",
        "from sklearn.preprocessing import StandardScaler\n",
        "from scipy.spatial.distance import pdist\n",
        "from scipy.spatial.distance import squareform\n",
        "from scipy.cluster.hierarchy import dendrogram, linkage\n",
        "from scipy.cluster.hierarchy import ward, fcluster, leaders\n",
        "from scipy.cluster import hierarchy\n",
        "from scipy.sparse import csr_matrix\n",
        "import networkx as nx\n",
        "import seaborn as sns\n",
        "import math\n",
        "\n",
        "sc = StandardScaler()\n",
        "\n",
        "sns.set_style(\"ticks\")\n",
        "\n",
        "sns.despine()"
      ],
      "execution_count": 10,
      "outputs": [
        {
          "output_type": "display_data",
          "data": {
            "text/plain": [
              "<Figure size 432x288 with 0 Axes>"
            ]
          },
          "metadata": {
            "tags": []
          }
        }
      ]
    },
    {
      "cell_type": "code",
      "metadata": {
        "id": "Q8PzM6sRrcaE",
        "outputId": "28190cad-98c6-467b-fe00-11de0a001c7d",
        "colab": {
          "base_uri": "https://localhost:8080/"
        }
      },
      "source": [
        "from google.colab import drive\n",
        "drive.mount('/content/drive')\n",
        "\n",
        "! mkdir res"
      ],
      "execution_count": 18,
      "outputs": [
        {
          "output_type": "stream",
          "text": [
            "Drive already mounted at /content/drive; to attempt to forcibly remount, call drive.mount(\"/content/drive\", force_remount=True).\n"
          ],
          "name": "stdout"
        }
      ]
    },
    {
      "cell_type": "code",
      "metadata": {
        "collapsed": true,
        "tags": [],
        "id": "RDuAf-ekZuou"
      },
      "source": [
        "# import data\n",
        "\n",
        "# file dir\n",
        "# fullFile = \"./data/full_music_data.csv\"\n",
        "# influenceFile = \"./data/influence_data.csv\"\n",
        "influenceFile = \"/content/drive/MyDrive/data/influence_data.csv\"\n",
        "# fullFileRes = \"./data/full_data.csv\"\n",
        "fullFileRes = \"/content/drive/MyDrive/data/full_data.csv\"\n",
        "# artistFile = \"./data/data_by_artist.csv\"\n",
        "artistFile = \"/content/drive/MyDrive/data/data_by_artist.csv\"\n",
        "\n",
        "# sixGenresFile = './data/6data.csv'\n",
        "sixGenresFile = \"/content/drive/MyDrive/data/6data.csv\"\n",
        "\n",
        "# read data\n",
        "fullData = pd.read_csv(fullFileRes, dtype = str)\n",
        "influenceData = pd.read_csv(influenceFile, dtype = str)\n",
        "artistData = pd.read_csv(artistFile, dtype = str)\n",
        "sixData = pd.read_csv(sixGenresFile, dtype=str)\n"
      ],
      "execution_count": 12,
      "outputs": []
    },
    {
      "cell_type": "code",
      "metadata": {
        "collapsed": true,
        "id": "Hz-TSUCZZuot"
      },
      "source": [
        "# const\n",
        "genre = {'Pop/Rock':0, 'R&B;':1, 'Country':2, 'Jazz':3, 'Vocal':4, 'Latin':5, 'Classical':6, 'Folk':7, 'International':8, 'Blues':9, 'Reggae':10, 'Electronic':11, 'Easy Listening':12, 'Stage & Screen':13, 'Religious': 14, 'Comedy/Spoken':15, 'New Age':16, 'Avant-Garde':17, \"Children's\": 18, 'Unknown': 19}"
      ],
      "execution_count": 13,
      "outputs": []
    },
    {
      "cell_type": "code",
      "metadata": {
        "collapsed": true,
        "id": "Ggf06_lqZuov"
      },
      "source": [
        "# 重复数据\n",
        "# fullData[fullData['song_title (censored)'] == 'Better Together']\n",
        "# fullData[fullData['song_title (censored)'] == 'Fake']"
      ],
      "execution_count": 14,
      "outputs": []
    },
    {
      "cell_type": "code",
      "metadata": {
        "collapsed": true,
        "id": "TXhCA71YZuov"
      },
      "source": [
        "def cleanData(data):\n",
        "    # 去重 去unmaned 去nan\n",
        "    cleaned_data = data.drop_duplicates(keep='first',inplace=False).loc[:, ~data.columns.str.contains(\"^Unnamed\")].dropna(axis=1,how='all').dropna(axis=0, how='any')\n",
        "    return cleaned_data"
      ],
      "execution_count": 15,
      "outputs": []
    },
    {
      "cell_type": "code",
      "metadata": {
        "collapsed": true,
        "id": "XP9Z5R96Zuow"
      },
      "source": [
        "# clean data\n",
        "fullData = cleanData(fullData)\n",
        "artistData = cleanData(artistData)\n",
        "sixData = cleanData(sixData)\n",
        "\n",
        "fullData_6 = fullData[(fullData['genre'] == 'Pop/Rock') | (fullData['genre'] == 'R&B;') | (fullData['genre'] == 'Country') | (fullData['genre'] == 'Jazz') | (fullData['genre'] == 'Vocal') | (fullData['genre'] == 'Latin')]\n"
      ],
      "execution_count": 16,
      "outputs": []
    },
    {
      "cell_type": "code",
      "metadata": {
        "collapsed": true,
        "id": "0ddsNTxOZuow"
      },
      "source": [
        "# change to numpy\n",
        "\n",
        "fullData_np = pd.DataFrame(fullData, columns=fullData.iloc[:, 2:15].columns).drop(columns=['explicit']).to_numpy().astype(float)\n",
        "artistData_np = artistData.drop(columns=['artist_name', 'artist_id', 'count', 'popularity', 'genre']).to_numpy().astype(float)\n",
        "sixData_np = sixData.drop(columns=['leibie']).to_numpy().astype(float)\n",
        "\n",
        "artistData.to_csv('./res/art_clear.csv')\n",
        "pd.DataFrame(sc.fit_transform(artistData_np)).to_csv('./res/art_fit.csv')"
      ],
      "execution_count": 19,
      "outputs": []
    },
    {
      "cell_type": "code",
      "metadata": {
        "collapsed": true,
        "tags": [
          "outputPrepend"
        ],
        "id": "B9zTWp3NZuox"
      },
      "source": [
        "# 拼接流派数据\n",
        "\n",
        "# genre_res = pd.DataFrame(index=artistData.index, columns=['genre'])\n",
        "\n",
        "# for row_index, row in artistData['artist_id'].items():\n",
        "#     _tem = (influenceData.loc[(influenceData['influencer_id'] == row) | (influenceData['follower_id'] == row)]['influencer_main_genre'])\n",
        "#     if _tem.shape[0] != 0:\n",
        "#         genre_res['genre'][row_index] = _tem.iloc[0]\n",
        "        \n",
        "# artistData_concated = pd.concat([artistData,genre_res],axis=1)\n",
        "# artistData_concated.to_csv('./res/artistData_concated.csv')\n",
        "\n",
        "# genre_res = pd.DataFrame(index=artistData.index, columns=['genre'])\n",
        "\n",
        "# fullData['artists_id'].astype(str)\n",
        "\n",
        "# for row_index, row in fullData['artists_id'].items():\n",
        "#     _tem = (influenceData.loc[(influenceData['influencer_id'] == row) | (influenceData['follower_id'] == row)]['influencer_main_genre'])\n",
        "#     if _tem.shape[0] != 0:\n",
        "#         genre_res['genre'][row_index] = _tem.iloc[0]\n",
        "        \n",
        "# fullData_concated = pd.concat([fullData,genre_res],axis=1)\n",
        "# fullData_concated.to_csv('./res/fullData_concated.csv')\n"
      ],
      "execution_count": 20,
      "outputs": []
    },
    {
      "cell_type": "code",
      "metadata": {
        "collapsed": true,
        "tags": [],
        "id": "LSWsNV_3Zuoy"
      },
      "source": [
        "# PCA 主成分分析\n",
        "def pca(XMat, k):\n",
        "    m, n = np.shape(XMat)                          # 返回维度 m*n。本处 m*n = 150*4              # axis=0 返回列的平均值。\n",
        "    data_adjust = sc.fit_transform(XMat)            # 本例对数据进行的是中心化处理（也可以换成标准化）\n",
        "    covX = np.cov(data_adjust.T)                   # 得到协方差矩阵\n",
        "                                                   # 为什么要转置呢？转置后生成4*4的的协方差矩阵式，否则150*150。\n",
        "    eigenValue, eigenVec = np.linalg.eig(covX)     # linear algebra 线性代数, eigen 特征。 |R - lambdaIp| = 0可求得p个特征根，以确定主成分，即 ∑lambda_n_of_all/∑lambda_all >=0.85。\n",
        "    \n",
        "    eigValIndice=np.argsort(eigenValue)\n",
        "    n_eigValIndice=eigValIndice[-1:-(k+1):-1]      #最大的n個特徵值的下標\n",
        "    n_eigVect=eigenVec[:,n_eigValIndice]\n",
        "    n_eigVal=eigenValue[n_eigValIndice]\n",
        "    finalData = np.dot(data_adjust, n_eigVect)\n",
        "    \n",
        "    return finalData, n_eigVect, n_eigVal"
      ],
      "execution_count": 22,
      "outputs": []
    },
    {
      "cell_type": "code",
      "metadata": {
        "collapsed": true,
        "id": "lCg0QLvcZuoy"
      },
      "source": [
        "# 调用主成分分析\n",
        "\n",
        "# artistData_np_1 = pd.read_csv('./data.')\n",
        "\n",
        "art_ver, art_vec, art_val  = pca(artistData_np, 7)\n",
        "\n",
        "np.savetxt(\"./res/eigVect.txt\",art_vec)\n",
        "pd.DataFrame(art_ver).to_csv(\"./res/ver.csv\")\n",
        "\n",
        "# a = art_val\n",
        "\n",
        "# a = a/sum(a)\n",
        "\n",
        "# for i in range(1, len(a)):\n",
        "#     a[i] = a[i] + a[i-1]\n",
        "\n",
        "# x = np.linspace(1, 12, 12)\n",
        "\n",
        "# plt.figure(figsize=(9, 6))\n",
        "\n",
        "# markerline, stemlines, baseline = plt.stem(x, a, '-')\n",
        "\n",
        "# plt.setp(baseline, color='r', linewidth=2)\n",
        "\n",
        "# plt.xticks(x)\n",
        "\n",
        "# plt.xlabel('Principal component')\n",
        "\n",
        "# plt.ylabel('Influence ratio')\n",
        "\n",
        "# plt.savefig('./img/PCA_line.jpg', dpi=600)\n",
        "\n",
        "# plt.show()"
      ],
      "execution_count": 23,
      "outputs": []
    },
    {
      "cell_type": "code",
      "metadata": {
        "collapsed": true,
        "scrolled": true,
        "id": "AYrAswIMZuoz"
      },
      "source": [
        "# 主成分分析作图函数\n",
        "\n",
        "def pca_draw2D(data, n_eigVect, columns=[ 'artist_name','artist_id', 'count', 'popularity', 'genre']):\n",
        "    for i in range(6):\n",
        "        _data = sc.fit_transform(np.dot(sc.fit_transform(data[data['genre'] == list (genre.keys()) [list (genre.values()).index (i)]].drop(columns=columns).to_numpy().astype(float)), n_eigVect))\n",
        "        plt.scatter(_data[:,0], _data[:,1], edgecolor='none',\n",
        "                alpha=0.5, cmap=plt.cm.get_cmap('Spectral', 10))\n",
        "\n",
        "    # plt.xlim((-3, 3))\n",
        "    # plt.ylim((-3, 3))\n",
        "\n",
        "def pca_draw3D(data, n_eigVect, columns=[ 'artist_name','artist_id', 'count', 'popularity', 'genre']):\n",
        "    \n",
        "    ax = plt.subplot(111, projection='3d')\n",
        "    for i in range(6):\n",
        "        _data = sc.fit_transform(np.dot(sc.fit_transform(data[data['genre'] == list (genre.keys()) [list (genre.values()).index(i)]].drop(columns=columns).to_numpy().astype(float)), n_eigVect))\n",
        "        ax.scatter(_data[:,0], _data[:,1], _data[:,2])\n",
        "        \n",
        "    ax.set_zlim(-2, 2)\n",
        "    plt.xlim((-3, 3))\n",
        "    plt.ylim((-3, 3))"
      ],
      "execution_count": 24,
      "outputs": []
    },
    {
      "cell_type": "code",
      "metadata": {
        "collapsed": true,
        "id": "YkyNocj3Zuo0"
      },
      "source": [
        "# 主成分分析作图\n",
        "# %matplotlib inline\n",
        "# pca_draw2D(artistData, eigVect)\n",
        "\n",
        "# %matplotlib notebook\n",
        "# pca_draw3D(artistData, eigVect)"
      ],
      "execution_count": 25,
      "outputs": []
    },
    {
      "cell_type": "code",
      "metadata": {
        "id": "YL3rfq-YZuo0",
        "colab": {
          "base_uri": "https://localhost:8080/",
          "height": 626
        },
        "outputId": "8f15739a-4924-49c9-c45f-8308755b717a"
      },
      "source": [
        "# 聚类算法\n",
        "%matplotlib inline\n",
        "\n",
        "label_name = np.array(['Country','Jazz','Latin','Pop\\Rock','R&B','Vocal'])\n",
        "\n",
        "cluData = sc.fit_transform(sixData_np)\n",
        "\n",
        "Z = hierarchy.linkage(cluData, method ='average',metric='euclidean')\n",
        "hierarchy.dendrogram(Z, labels=label_name)\n",
        "sns.despine()\n",
        "\n",
        "plt.savefig('./img/6Data.jpg', dpi=600)\n",
        "plt.show()\n",
        "\n",
        "cluData.shape"
      ],
      "execution_count": 26,
      "outputs": [
        {
          "output_type": "error",
          "ename": "FileNotFoundError",
          "evalue": "ignored",
          "traceback": [
            "\u001b[0;31m---------------------------------------------------------------------------\u001b[0m",
            "\u001b[0;31mFileNotFoundError\u001b[0m                         Traceback (most recent call last)",
            "\u001b[0;32m<ipython-input-26-efa615317e93>\u001b[0m in \u001b[0;36m<module>\u001b[0;34m()\u001b[0m\n\u001b[1;32m     10\u001b[0m \u001b[0msns\u001b[0m\u001b[0;34m.\u001b[0m\u001b[0mdespine\u001b[0m\u001b[0;34m(\u001b[0m\u001b[0;34m)\u001b[0m\u001b[0;34m\u001b[0m\u001b[0;34m\u001b[0m\u001b[0m\n\u001b[1;32m     11\u001b[0m \u001b[0;34m\u001b[0m\u001b[0m\n\u001b[0;32m---> 12\u001b[0;31m \u001b[0mplt\u001b[0m\u001b[0;34m.\u001b[0m\u001b[0msavefig\u001b[0m\u001b[0;34m(\u001b[0m\u001b[0;34m'./img/6Data.jpg'\u001b[0m\u001b[0;34m,\u001b[0m \u001b[0mdpi\u001b[0m\u001b[0;34m=\u001b[0m\u001b[0;36m600\u001b[0m\u001b[0;34m)\u001b[0m\u001b[0;34m\u001b[0m\u001b[0;34m\u001b[0m\u001b[0m\n\u001b[0m\u001b[1;32m     13\u001b[0m \u001b[0mplt\u001b[0m\u001b[0;34m.\u001b[0m\u001b[0mshow\u001b[0m\u001b[0;34m(\u001b[0m\u001b[0;34m)\u001b[0m\u001b[0;34m\u001b[0m\u001b[0;34m\u001b[0m\u001b[0m\n\u001b[1;32m     14\u001b[0m \u001b[0;34m\u001b[0m\u001b[0m\n",
            "\u001b[0;32m/usr/local/lib/python3.7/dist-packages/matplotlib/pyplot.py\u001b[0m in \u001b[0;36msavefig\u001b[0;34m(*args, **kwargs)\u001b[0m\n\u001b[1;32m    721\u001b[0m \u001b[0;32mdef\u001b[0m \u001b[0msavefig\u001b[0m\u001b[0;34m(\u001b[0m\u001b[0;34m*\u001b[0m\u001b[0margs\u001b[0m\u001b[0;34m,\u001b[0m \u001b[0;34m**\u001b[0m\u001b[0mkwargs\u001b[0m\u001b[0;34m)\u001b[0m\u001b[0;34m:\u001b[0m\u001b[0;34m\u001b[0m\u001b[0;34m\u001b[0m\u001b[0m\n\u001b[1;32m    722\u001b[0m     \u001b[0mfig\u001b[0m \u001b[0;34m=\u001b[0m \u001b[0mgcf\u001b[0m\u001b[0;34m(\u001b[0m\u001b[0;34m)\u001b[0m\u001b[0;34m\u001b[0m\u001b[0;34m\u001b[0m\u001b[0m\n\u001b[0;32m--> 723\u001b[0;31m     \u001b[0mres\u001b[0m \u001b[0;34m=\u001b[0m \u001b[0mfig\u001b[0m\u001b[0;34m.\u001b[0m\u001b[0msavefig\u001b[0m\u001b[0;34m(\u001b[0m\u001b[0;34m*\u001b[0m\u001b[0margs\u001b[0m\u001b[0;34m,\u001b[0m \u001b[0;34m**\u001b[0m\u001b[0mkwargs\u001b[0m\u001b[0;34m)\u001b[0m\u001b[0;34m\u001b[0m\u001b[0;34m\u001b[0m\u001b[0m\n\u001b[0m\u001b[1;32m    724\u001b[0m     \u001b[0mfig\u001b[0m\u001b[0;34m.\u001b[0m\u001b[0mcanvas\u001b[0m\u001b[0;34m.\u001b[0m\u001b[0mdraw_idle\u001b[0m\u001b[0;34m(\u001b[0m\u001b[0;34m)\u001b[0m   \u001b[0;31m# need this if 'transparent=True' to reset colors\u001b[0m\u001b[0;34m\u001b[0m\u001b[0;34m\u001b[0m\u001b[0m\n\u001b[1;32m    725\u001b[0m     \u001b[0;32mreturn\u001b[0m \u001b[0mres\u001b[0m\u001b[0;34m\u001b[0m\u001b[0;34m\u001b[0m\u001b[0m\n",
            "\u001b[0;32m/usr/local/lib/python3.7/dist-packages/matplotlib/figure.py\u001b[0m in \u001b[0;36msavefig\u001b[0;34m(self, fname, transparent, **kwargs)\u001b[0m\n\u001b[1;32m   2201\u001b[0m             \u001b[0mself\u001b[0m\u001b[0;34m.\u001b[0m\u001b[0mpatch\u001b[0m\u001b[0;34m.\u001b[0m\u001b[0mset_visible\u001b[0m\u001b[0;34m(\u001b[0m\u001b[0mframeon\u001b[0m\u001b[0;34m)\u001b[0m\u001b[0;34m\u001b[0m\u001b[0;34m\u001b[0m\u001b[0m\n\u001b[1;32m   2202\u001b[0m \u001b[0;34m\u001b[0m\u001b[0m\n\u001b[0;32m-> 2203\u001b[0;31m         \u001b[0mself\u001b[0m\u001b[0;34m.\u001b[0m\u001b[0mcanvas\u001b[0m\u001b[0;34m.\u001b[0m\u001b[0mprint_figure\u001b[0m\u001b[0;34m(\u001b[0m\u001b[0mfname\u001b[0m\u001b[0;34m,\u001b[0m \u001b[0;34m**\u001b[0m\u001b[0mkwargs\u001b[0m\u001b[0;34m)\u001b[0m\u001b[0;34m\u001b[0m\u001b[0;34m\u001b[0m\u001b[0m\n\u001b[0m\u001b[1;32m   2204\u001b[0m \u001b[0;34m\u001b[0m\u001b[0m\n\u001b[1;32m   2205\u001b[0m         \u001b[0;32mif\u001b[0m \u001b[0mframeon\u001b[0m\u001b[0;34m:\u001b[0m\u001b[0;34m\u001b[0m\u001b[0;34m\u001b[0m\u001b[0m\n",
            "\u001b[0;32m/usr/local/lib/python3.7/dist-packages/matplotlib/backend_bases.py\u001b[0m in \u001b[0;36mprint_figure\u001b[0;34m(self, filename, dpi, facecolor, edgecolor, orientation, format, bbox_inches, **kwargs)\u001b[0m\n\u001b[1;32m   2124\u001b[0m                     \u001b[0morientation\u001b[0m\u001b[0;34m=\u001b[0m\u001b[0morientation\u001b[0m\u001b[0;34m,\u001b[0m\u001b[0;34m\u001b[0m\u001b[0;34m\u001b[0m\u001b[0m\n\u001b[1;32m   2125\u001b[0m                     \u001b[0mbbox_inches_restore\u001b[0m\u001b[0;34m=\u001b[0m\u001b[0m_bbox_inches_restore\u001b[0m\u001b[0;34m,\u001b[0m\u001b[0;34m\u001b[0m\u001b[0;34m\u001b[0m\u001b[0m\n\u001b[0;32m-> 2126\u001b[0;31m                     **kwargs)\n\u001b[0m\u001b[1;32m   2127\u001b[0m             \u001b[0;32mfinally\u001b[0m\u001b[0;34m:\u001b[0m\u001b[0;34m\u001b[0m\u001b[0;34m\u001b[0m\u001b[0m\n\u001b[1;32m   2128\u001b[0m                 \u001b[0;32mif\u001b[0m \u001b[0mbbox_inches\u001b[0m \u001b[0;32mand\u001b[0m \u001b[0mrestore_bbox\u001b[0m\u001b[0;34m:\u001b[0m\u001b[0;34m\u001b[0m\u001b[0;34m\u001b[0m\u001b[0m\n",
            "\u001b[0;32m/usr/local/lib/python3.7/dist-packages/matplotlib/cbook/deprecation.py\u001b[0m in \u001b[0;36mwrapper\u001b[0;34m(*args, **kwargs)\u001b[0m\n\u001b[1;32m    356\u001b[0m                 \u001b[0;34mf\"%(removal)s.  If any parameter follows {name!r}, they \"\u001b[0m\u001b[0;34m\u001b[0m\u001b[0;34m\u001b[0m\u001b[0m\n\u001b[1;32m    357\u001b[0m                 f\"should be pass as keyword, not positionally.\")\n\u001b[0;32m--> 358\u001b[0;31m         \u001b[0;32mreturn\u001b[0m \u001b[0mfunc\u001b[0m\u001b[0;34m(\u001b[0m\u001b[0;34m*\u001b[0m\u001b[0margs\u001b[0m\u001b[0;34m,\u001b[0m \u001b[0;34m**\u001b[0m\u001b[0mkwargs\u001b[0m\u001b[0;34m)\u001b[0m\u001b[0;34m\u001b[0m\u001b[0;34m\u001b[0m\u001b[0m\n\u001b[0m\u001b[1;32m    359\u001b[0m \u001b[0;34m\u001b[0m\u001b[0m\n\u001b[1;32m    360\u001b[0m     \u001b[0;32mreturn\u001b[0m \u001b[0mwrapper\u001b[0m\u001b[0;34m\u001b[0m\u001b[0;34m\u001b[0m\u001b[0m\n",
            "\u001b[0;32m/usr/local/lib/python3.7/dist-packages/matplotlib/backends/backend_agg.py\u001b[0m in \u001b[0;36mprint_jpg\u001b[0;34m(self, filename_or_obj, dryrun, pil_kwargs, *args, **kwargs)\u001b[0m\n\u001b[1;32m    598\u001b[0m             \u001b[0mpil_kwargs\u001b[0m\u001b[0;34m.\u001b[0m\u001b[0msetdefault\u001b[0m\u001b[0;34m(\u001b[0m\u001b[0;34m\"dpi\"\u001b[0m\u001b[0;34m,\u001b[0m \u001b[0;34m(\u001b[0m\u001b[0mself\u001b[0m\u001b[0;34m.\u001b[0m\u001b[0mfigure\u001b[0m\u001b[0;34m.\u001b[0m\u001b[0mdpi\u001b[0m\u001b[0;34m,\u001b[0m \u001b[0mself\u001b[0m\u001b[0;34m.\u001b[0m\u001b[0mfigure\u001b[0m\u001b[0;34m.\u001b[0m\u001b[0mdpi\u001b[0m\u001b[0;34m)\u001b[0m\u001b[0;34m)\u001b[0m\u001b[0;34m\u001b[0m\u001b[0;34m\u001b[0m\u001b[0m\n\u001b[1;32m    599\u001b[0m             return background.save(\n\u001b[0;32m--> 600\u001b[0;31m                 filename_or_obj, format='jpeg', **pil_kwargs)\n\u001b[0m\u001b[1;32m    601\u001b[0m \u001b[0;34m\u001b[0m\u001b[0m\n\u001b[1;32m    602\u001b[0m         \u001b[0mprint_jpeg\u001b[0m \u001b[0;34m=\u001b[0m \u001b[0mprint_jpg\u001b[0m\u001b[0;34m\u001b[0m\u001b[0;34m\u001b[0m\u001b[0m\n",
            "\u001b[0;32m/usr/local/lib/python3.7/dist-packages/PIL/Image.py\u001b[0m in \u001b[0;36msave\u001b[0;34m(self, fp, format, **params)\u001b[0m\n\u001b[1;32m   2129\u001b[0m                 \u001b[0mfp\u001b[0m \u001b[0;34m=\u001b[0m \u001b[0mbuiltins\u001b[0m\u001b[0;34m.\u001b[0m\u001b[0mopen\u001b[0m\u001b[0;34m(\u001b[0m\u001b[0mfilename\u001b[0m\u001b[0;34m,\u001b[0m \u001b[0;34m\"r+b\"\u001b[0m\u001b[0;34m)\u001b[0m\u001b[0;34m\u001b[0m\u001b[0;34m\u001b[0m\u001b[0m\n\u001b[1;32m   2130\u001b[0m             \u001b[0;32melse\u001b[0m\u001b[0;34m:\u001b[0m\u001b[0;34m\u001b[0m\u001b[0;34m\u001b[0m\u001b[0m\n\u001b[0;32m-> 2131\u001b[0;31m                 \u001b[0mfp\u001b[0m \u001b[0;34m=\u001b[0m \u001b[0mbuiltins\u001b[0m\u001b[0;34m.\u001b[0m\u001b[0mopen\u001b[0m\u001b[0;34m(\u001b[0m\u001b[0mfilename\u001b[0m\u001b[0;34m,\u001b[0m \u001b[0;34m\"w+b\"\u001b[0m\u001b[0;34m)\u001b[0m\u001b[0;34m\u001b[0m\u001b[0;34m\u001b[0m\u001b[0m\n\u001b[0m\u001b[1;32m   2132\u001b[0m \u001b[0;34m\u001b[0m\u001b[0m\n\u001b[1;32m   2133\u001b[0m         \u001b[0;32mtry\u001b[0m\u001b[0;34m:\u001b[0m\u001b[0;34m\u001b[0m\u001b[0;34m\u001b[0m\u001b[0m\n",
            "\u001b[0;31mFileNotFoundError\u001b[0m: [Errno 2] No such file or directory: './img/6Data.jpg'"
          ]
        },
        {
          "output_type": "display_data",
          "data": {
            "image/png": "[encoded data removed]",
            "text/plain": [
              "<Figure size 432x288 with 1 Axes>"
            ]
          },
          "metadata": {
            "tags": [],
            "needs_background": "light"
          }
        }
      ]
    },
    {
      "cell_type": "code",
      "metadata": {
        "id": "mgOGHvtmZuo1"
      },
      "source": [
        "%matplotlib inline\n",
        "\n",
        "label_name = np.array(['Country','Jazz','Latin','Pop\\Rock','R&B','Vocal'])\n",
        "cluData = (np.dot(sc.fit_transform(sixData_np), art_vec))\n",
        "\n",
        "# ver = sc.fit_transform(artistData_np)\n",
        "\n",
        "# ver = (np.dot(sc.fit_transform(artistData_np), n_eigVect))\n",
        "\n",
        "Z = hierarchy.linkage(cluData, method ='average',metric='euclidean')\n",
        "hierarchy.dendrogram(Z, labels=label_name)\n",
        "\n",
        "sns.despine()\n",
        "\n",
        "plt.savefig('./img/6Data_pac.jpg', dpi=600)\n",
        "plt.show()\n",
        "\n",
        "cluData.shape"
      ],
      "execution_count": null,
      "outputs": []
    },
    {
      "cell_type": "code",
      "metadata": {
        "collapsed": true,
        "id": "GencOn9_Zuo2"
      },
      "source": [
        "# 距离矩阵函数\n",
        "def disArr(ver):\n",
        "    \n",
        "    distA=pdist(ver,metric='euclidean')\n",
        "    # # 将distA数组变成一个矩阵\n",
        "    distB = squareform(distA)\n",
        "    \n",
        "        # 计算组内和组件平均距离\n",
        "    dis_arr = np.zeros((6, 6))\n",
        "\n",
        "    for i in range(6):\n",
        "        for j in range(i+1, 6):\n",
        "            _row = np.flatnonzero(artistData['genre'] == list (genre.keys()) [list (genre.values()).index (i)])\n",
        "            _col = np.flatnonzero(artistData['genre'] == list (genre.keys()) [list (genre.values()).index (j)])\n",
        "            _data = distB[_row, :]\n",
        "            _data = _data[:, _col]\n",
        "            dis_sum = np.sum(_data)/(_row.shape[0] * _col.shape[0])\n",
        "            dis_arr[i, j] = dis_sum\n",
        "\n",
        "    dis_same = np.zeros((6, 6))\n",
        "    for i in range(6):\n",
        "        _row = np.flatnonzero(artistData['genre'] == list (genre.keys()) [list (genre.values()).index (i)])\n",
        "        _data = distB[_row,:]\n",
        "        _data = _data[:, _row]\n",
        "        dis_sum = np.sum(_data)/(_row.shape[0] * _row.shape[0])\n",
        "        dis_same[i, i] = dis_sum\n",
        "\n",
        "    dis_arr = pd.DataFrame(dis_same) + pd.DataFrame(dis_arr)\n",
        "    \n",
        "    return dis_arr, distB"
      ],
      "execution_count": null,
      "outputs": []
    },
    {
      "cell_type": "code",
      "metadata": {
        "collapsed": true,
        "id": "sX2l_9bqZuo2"
      },
      "source": [
        "# 距离矩阵计算\n",
        "ver_dis_arr, ver_disB =  disArr(ver)\n",
        "\n",
        "pd.DataFrame.to_csv(ver_dis_arr, './res/dis_arr_7_dim.csv')\n",
        "\n",
        "_data_dis = sc.fit_transform(artistData_np)\n",
        "\n",
        "data_dis_arr, data_disB = disArr(_data_dis)\n",
        "\n",
        "pd.DataFrame.to_csv(data_dis_arr, './res/dis_arr.csv')\n"
      ],
      "execution_count": null,
      "outputs": []
    },
    {
      "cell_type": "code",
      "metadata": {
        "scrolled": true,
        "id": "qXmbVlWhZuo3"
      },
      "source": [
        "# 60类聚类\n",
        "_60_art_data = np.genfromtxt(\"./data/60_ar.csv\", dtype=\"int\")\n",
        "_70_art_data = np.genfromtxt(\"./data/70_ar.csv\", dtype=\"int\")\n",
        "_80_art_data = np.genfromtxt(\"./data/80_ar.csv\", dtype=\"int\")\n",
        "\n",
        "artistData['artist_id'] = artistData['artist_id'].astype('int')\n",
        "\n",
        "_60_art =  artistData[artistData['artist_id'].isin(_60_art_data)]\n",
        "_70_art =  artistData[artistData['artist_id'].isin(_70_art_data)]\n",
        "_80_art =  artistData[artistData['artist_id'].isin(_80_art_data)]\n",
        "\n",
        "_60_art_np = _60_art.drop(columns=['artist_name', 'artist_id', 'count', 'popularity', 'genre']).to_numpy().astype(float)\n",
        "_70_art_np = _70_art.drop(columns=['artist_name', 'artist_id', 'count', 'popularity', 'genre']).to_numpy().astype(float)\n",
        "_80_art_np = _80_art.drop(columns=['artist_name', 'artist_id', 'count', 'popularity', 'genre']).to_numpy().astype(float)\n",
        "\n",
        "_60_art_np = np.dot(sc.fit_transform(_60_art_np), art_vec)\n",
        "_70_art_np = np.dot(sc.fit_transform(_70_art_np), art_vec)\n",
        "_80_art_np = np.dot(sc.fit_transform(_80_art_np), art_vec)\n",
        "\n",
        "# _60_art_np = sc.fit_transform(_60_art_np)\n",
        "# _70_art_np = sc.fit_transform(_60_art_np)\n",
        "\n",
        "\n",
        "plt.figure(figsize=(12, 6))\n",
        "\n",
        "Z = hierarchy.linkage(_60_art_np, method ='average',metric='euclidean')\n",
        "\n",
        "hierarchy.dendrogram(Z, leaf_rotation=90., leaf_font_size=10., show_contracted=True, truncate_mode='lastp')\n",
        "\n",
        "sns.despine()\n",
        "plt.savefig('./img/60_clu.jpg', dpi = 600)\n",
        "\n",
        "plt.show()\n",
        "\n",
        "_60_art.to_csv('./res/_60_art.csv')\n"
      ],
      "execution_count": null,
      "outputs": []
    },
    {
      "cell_type": "code",
      "metadata": {
        "id": "3dc5sfPOZuo3"
      },
      "source": [
        "plt.figure(figsize=(12, 6))\n",
        "\n",
        "Z = hierarchy.linkage(_70_art_np, method ='average',metric='euclidean')\n",
        "\n",
        "hierarchy.dendrogram(Z, leaf_rotation=90., leaf_font_size=10., show_contracted=True, truncate_mode='lastp')\n",
        "\n",
        "sns.despine()\n",
        "plt.savefig('./img/70_clu.jpg', dpi = 600)\n",
        "\n",
        "plt.show()\n",
        "\n",
        "_70_art.to_csv('./res/_70_art.csv')"
      ],
      "execution_count": null,
      "outputs": []
    },
    {
      "cell_type": "code",
      "metadata": {
        "id": "205uA1eAZuo4"
      },
      "source": [
        "plt.figure(figsize=(12, 6))\n",
        "\n",
        "Z = hierarchy.linkage(_80_art_np, method ='average',metric='euclidean')\n",
        "\n",
        "hierarchy.dendrogram(Z, leaf_rotation=90., leaf_font_size=10., show_contracted=True, truncate_mode='lastp')\n",
        "\n",
        "sns.despine()\n",
        "plt.savefig('./img/80_clu.jpg', dpi = 600)\n",
        "\n",
        "plt.show()\n",
        "\n",
        "_80_art.to_csv('./res/_80_art.csv')"
      ],
      "execution_count": null,
      "outputs": []
    },
    {
      "cell_type": "code",
      "metadata": {
        "id": "g9BR8vB7Zuo5"
      },
      "source": [
        "T = fcluster(Z, 3, criterion='distance')\n",
        "\n",
        "T.shape"
      ],
      "execution_count": null,
      "outputs": []
    },
    {
      "cell_type": "code",
      "metadata": {
        "scrolled": true,
        "id": "8iqGS674Zuo5"
      },
      "source": [
        "# 聚类树图\n",
        "\n",
        "\n",
        "\n",
        "# plt.figure(figsize=(50, 50))\n",
        "g = sns.clustermap(_70_art_np)\n",
        "plt.show()"
      ],
      "execution_count": null,
      "outputs": []
    },
    {
      "cell_type": "code",
      "metadata": {
        "id": "fm-Cqq-rZuo7"
      },
      "source": [
        "pd.DataFrame(Z)"
      ],
      "execution_count": null,
      "outputs": []
    },
    {
      "cell_type": "code",
      "metadata": {
        "id": "1wxNdS_3Zuo8"
      },
      "source": [
        "# 从此往下为 12类特征展示\n",
        "he = fullData\n",
        "\n",
        "fullData_6"
      ],
      "execution_count": null,
      "outputs": []
    },
    {
      "cell_type": "code",
      "metadata": {
        "id": "zcw8RGrYZuo8"
      },
      "source": [
        "fullData_6['danceability'] = fullData_6['danceability'].astype('float')\n",
        "\n",
        "plt.figure(figsize=(8, 6))\n",
        "\n",
        "\n",
        "sns.kdeplot(\n",
        "   data=fullData_6, x='danceability', hue='genre',\n",
        "#    fill=True, common_norm=False, palette=\"bright\",\n",
        "#    alpha=.2, linewidth=0,\n",
        ")\n",
        "sns.despine()\n",
        "plt.savefig('./img/danceability.jpg', dpi=600)\n",
        "\n",
        "plt.figure(figsize=(8, 6))\n",
        "\n",
        "fullData_6['energy'] = fullData_6['energy'].astype('float')\n",
        "\n",
        "\n",
        "sns.kdeplot(\n",
        "\n",
        "   data=fullData_6, x='energy', hue='genre',\n",
        "#     fill=True, common_norm=False, palette=\"crest\",\n",
        "#    alpha=.3, linewidth=0,\n",
        ")\n",
        "sns.despine()\n",
        "plt.savefig('./img/energy.jpg', dpi=600)\n",
        "\n",
        "fullData_6['valence'] = fullData_6['valence'].astype('float')\n",
        "\n",
        "plt.figure(figsize=(8, 6))\n",
        "\n",
        "sns.kdeplot(\n",
        "   data=fullData_6, x='valence', hue='genre',\n",
        "#    fill=True, common_norm=False, palette=\"crest\",\n",
        "#    alpha=.3, linewidth=0,\n",
        ")\n",
        "sns.despine()\n",
        "plt.savefig('./img/valence.jpg', dpi=600)\n",
        "\n",
        "fullData_6['tempo'] = fullData_6['tempo'].astype('float')\n",
        "\n",
        "plt.figure(figsize=(8, 6))\n",
        "\n",
        "sns.kdeplot(\n",
        "   data=fullData_6, x='tempo', hue='genre',\n",
        "#    fill=True, common_norm=False, palette=\"crest\",\n",
        "#    alpha=.3, linewidth=0,\n",
        ")\n",
        "sns.despine()\n",
        "plt.savefig('./img/tempo.jpg', dpi=600)\n",
        "\n",
        "\n",
        "fullData_6['loudness'] = fullData_6['loudness'].astype('float')\n",
        "\n",
        "plt.figure(figsize=(8, 6))\n",
        "\n",
        "sns.kdeplot(\n",
        "   data=fullData_6, x='loudness', hue='genre',\n",
        "#    fill=True, common_norm=False, palette=\"crest\",\n",
        "#    alpha=.4, linewidth=0,\n",
        ")\n",
        "sns.despine()\n",
        "plt.savefig('./img/loudness.jpg', dpi=600)\n",
        "\n",
        "fullData_6['acousticness'] = fullData_6['acousticness'].astype('float')\n",
        "\n",
        "plt.figure(figsize=(8, 6))\n",
        "\n",
        "sns.kdeplot(\n",
        "   data=fullData_6, x='acousticness', hue='genre',\n",
        "#    fill=True, common_norm=False, palette=\"crest\",\n",
        "#    alpha=.4, linewidth=0,\n",
        ")\n",
        "sns.despine()\n",
        "plt.savefig('./img/acousticness.jpg', dpi=600)\n",
        "\n",
        "fullData_6['instrumentalness'] = fullData_6['instrumentalness'].astype('float')\n",
        "\n",
        "plt.figure(figsize=(8, 6))\n",
        "\n",
        "sns.kdeplot(\n",
        "   data=fullData_6, x='instrumentalness', hue='genre',\n",
        "#    fill=True, common_norm=False, palette=\"bright\",\n",
        "#    alpha=.4, linewidth=0,\n",
        ")\n",
        "sns.despine()\n",
        "plt.savefig('./img/instrumentalness.jpg', dpi=600)\n",
        "\n",
        "fullData_6['liveness'] = fullData_6['liveness'].astype('float')\n",
        "\n",
        "plt.figure(figsize=(8, 6))\n",
        "\n",
        "sns.kdeplot(\n",
        "   data=fullData_6, x='liveness', hue='genre',\n",
        "#    fill=True, common_norm=False, palette=\"crest\",\n",
        "#    alpha=.4, linewidth=0,\n",
        ")\n",
        "sns.despine()\n",
        "plt.savefig('./img/liveness.jpg', dpi=600)\n",
        "\n",
        "fullData_6['speechiness'] = fullData_6['speechiness'].astype('float')\n",
        "\n",
        "plt.figure(figsize=(8, 6))\n",
        "\n",
        "sns.kdeplot(\n",
        "   data=fullData_6, x='speechiness', hue='genre',\n",
        "#    fill=True, common_norm=False, palette=\"crest\",\n",
        "#    alpha=.4, linewidth=0,\n",
        ")\n",
        "sns.despine()\n",
        "plt.savefig('./img/speechiness.jpg', dpi=600)\n",
        "\n",
        "fullData_6['duration_ms'] = fullData_6['duration_ms'].astype('float')\n",
        "\n",
        "plt.figure(figsize=(8, 6))\n",
        "\n",
        "sns.kdeplot(\n",
        "   data=fullData_6, x='duration_ms', hue='genre',\n",
        "#    fill=True, common_norm=False, palette=\"crest\",\n",
        "#    alpha=.4, linewidth=0,\n",
        ")\n",
        "sns.despine()\n",
        "plt.savefig('./img/duration_ms.jpg', dpi=600)\n",
        "\n",
        "fullData_6['popularity'] = fullData_6['popularity'].astype('float')\n",
        "\n",
        "plt.figure(figsize=(8, 6))\n",
        "\n",
        "sns.kdeplot(\n",
        "   data=fullData_6, x='popularity', hue='genre',\n",
        "#    fill=True, common_norm=False, palette=\"crest\",\n",
        "#    alpha=.4, linewidth=0,\n",
        ")\n",
        "sns.despine()\n",
        "plt.savefig('./img/popularity.jpg', dpi=600)\n",
        "\n",
        "\n"
      ],
      "execution_count": null,
      "outputs": []
    },
    {
      "cell_type": "code",
      "metadata": {
        "collapsed": true,
        "tags": [],
        "id": "y1cCEZumZuo9"
      },
      "source": [
        "# 计算网络图邻接矩阵\n",
        "graph = np.zeros((influenceData.shape[0], 2))\n",
        "\n",
        "minYear = int(min(min(influenceData['influencer_active_start']), min(influenceData['follower_active_start'])))\n",
        "\n",
        "minYear\n",
        "\n",
        "maxYear = int(max(max(influenceData['influencer_active_start']), max(influenceData['follower_active_start'])))\n",
        "\n",
        "for row_index, row  in influenceData.iterrows():\n",
        "    # print(row_index, row['influencer_main_genre'])\n",
        "    \n",
        "    graph[row_index][0] = genre[row['influencer_main_genre']] + int((int(row['influencer_active_start']) - minYear)/10)* 20\n",
        "    graph[row_index][1] = genre[row['follower_main_genre']] + int((int(row['follower_active_start']) - minYear)/10) * 20\n"
      ],
      "execution_count": null,
      "outputs": []
    },
    {
      "cell_type": "code",
      "metadata": {
        "id": "mzKJsHmQZuo-"
      },
      "source": [
        "# 通过邻接矩阵作图\n",
        "%matplotlib inline\n",
        "graph = graph.astype(int)\n",
        "\n",
        "G = nx.Graph()\n",
        "\n",
        "G.clear()\n",
        "\n",
        "row = np.array(graph[:, 0])\n",
        "col = np.array(graph[:, 1])\n",
        "\n",
        "data = np.ones((1, graph.shape[0])).reshape(-1)\n",
        "\n",
        "n = max(max(row), max(col)) + 1\n",
        "\n",
        "pos = {}\n",
        "\n",
        "for i in range((maxYear - minYear + 10)*2):\n",
        "    pos[i] = (i // 20, i % 20)\n",
        "\n",
        "A = csr_matrix((data, (row, col)), shape=(n, n)).toarray()\n",
        "\n",
        "A = np.where(A < 0, 0, A).astype('int')\n",
        "\n",
        "G = nx.from_numpy_matrix(A, create_using=nx.DiGraph()) \n",
        "\n",
        "_be_d = dict(G.degree)\n",
        "\n",
        "G.remove_nodes_from(list(nx.isolates(G)))\n",
        "\n",
        "# G = G.to_directed()\n",
        "\n",
        "color_list = [float(v['weight']*0.5) for (r,c,v) in G.edges(data=True)]\n",
        "\n",
        "color_list = [int(((i/max(color_list))*8 + 2)) for i in color_list]\n",
        "\n",
        "d = dict(G.degree)\n",
        "\n",
        "plt.figure(figsize=(15, 6))\n",
        "\n",
        "\n",
        "plt.axis(\"off\")\n",
        "# nx.draw(G, pos, node_color=\"#A0CBE2\", edge_color=\"#aaaaaa\")\n",
        "nx.draw(G,\n",
        "        pos,\n",
        "        width=color_list,\n",
        "        node_color=\"#60acfc\",\n",
        "        edge_color = 'b',\n",
        "        alpha = 0.1\n",
        "       )\n",
        "nx.draw_networkx_nodes(G,pos, node_color=\"#60acfc\",node_size=[v * 3 for v in d.values()], alpha=0.8)\n",
        "\n",
        "plt.savefig('./img/all_network.jpg', dpi = 600)\n",
        "\n",
        "plt.show() \n"
      ],
      "execution_count": null,
      "outputs": []
    },
    {
      "cell_type": "code",
      "metadata": {
        "id": "nAksPm02Zuo_"
      },
      "source": [
        "# 通过邻接矩阵作图\n",
        "%matplotlib inline\n",
        "graph = graph.astype(int)\n",
        "\n",
        "G = nx.Graph()\n",
        "\n",
        "G.clear()\n",
        "\n",
        "row = np.array(graph[:, 0])\n",
        "col = np.array(graph[:, 1])\n",
        "\n",
        "data = np.ones((1, graph.shape[0])).reshape(-1)\n",
        "\n",
        "n = max(max(row), max(col)) + 1\n",
        "\n",
        "pos = {}\n",
        "\n",
        "for i in range((maxYear - minYear + 10)*2):\n",
        "    pos[i] = (i // 20, i % 20)\n",
        "\n",
        "A = csr_matrix((data, (row, col)), shape=(n, n)).toarray()\n",
        "\n",
        "A = np.where(A < 50, 0, A).astype('int')\n",
        "\n",
        "G = nx.from_numpy_matrix(A, create_using=nx.DiGraph()) \n",
        "\n",
        "_be_d = dict(G.degree)\n",
        "\n",
        "G.remove_nodes_from(list(nx.isolates(G)))\n",
        "\n",
        "# G = G.to_directed()\n",
        "\n",
        "color_list = [float(v['weight']*0.5) for (r,c,v) in G.edges(data=True)]\n",
        "\n",
        "color_list = [int(((i/max(color_list))*8 + 2)) for i in color_list]\n",
        "\n",
        "# d = dict(G.degree)\n",
        "\n",
        "# plt.figure(figsize=(15, 6))\n",
        "\n",
        "\n",
        "plt.axis(\"off\")\n",
        "# nx.draw(G, pos, node_color=\"#A0CBE2\", edge_color=\"#aaaaaa\")\n",
        "nx.draw(G,\n",
        "        pos,\n",
        "        width=color_list,\n",
        "        node_color=\"#60acfc\",\n",
        "        edge_color = 'b',\n",
        "        alpha = 0.3\n",
        "       )\n",
        "nx.draw_networkx_nodes(G,pos, node_color=\"#60acfc\",\n",
        "#                        node_size=[v * 3 for v in d.values()],\n",
        "                       alpha=0.9\n",
        "                      )\n",
        "\n",
        "plt.savefig('./img/all_network_50.jpg', dpi = 600)\n",
        "\n",
        "plt.show() \n"
      ],
      "execution_count": null,
      "outputs": []
    },
    {
      "cell_type": "code",
      "metadata": {
        "id": "PE9gtYd1ZupA"
      },
      "source": [
        "# subnet\n",
        "# sublist = []\n",
        "\n",
        "# for i in range(6):\n",
        "#     for j in range(9):\n",
        "#         sublist.append(j*10+i)\n",
        "        \n",
        "# sub_A = np.zeros((54, 54))\n",
        "        \n",
        "# for i in range(len(sublist)):\n",
        "#     for j in range(len(sublist)):\n",
        "#         sub_A[i, j] = A[sublist[i], sublist[j]]\n",
        "        \n",
        "# pos_sub = {}\n",
        "\n",
        "# for i in range(54):\n",
        "#     pos_sub[i] = (i // 6, i % 6)\n",
        "\n",
        "sublist = [65, 85, 105, 125]\n",
        "\n",
        "# sublist = [60, 80, 100, 120]\n",
        "sub_A = np.zeros((4, 4))\n",
        "\n",
        "# pos_sub = [(0,0), (1,0), (2,0),(3,0)]\n",
        "\n",
        "for i in range(len(sublist)):\n",
        "    for j in range(len(sublist)):\n",
        "        sub_A[i, j] = A[sublist[i], sublist[j]]\n",
        "\n",
        "G_sub = nx.from_numpy_matrix(sub_A, create_using=nx.DiGraph()) \n",
        "\n",
        "G_sub.remove_nodes_from(list(nx.isolates(G_sub)))\n",
        "\n",
        "# G_sub = G_sub.to_directed()\n",
        "\n",
        "color_list = [float(v['weight']*0.5) for (r,c,v) in G_sub.edges(data=True)]\n",
        "\n",
        "color_list = [int(((i/max(color_list))*2 + 2)) for i in color_list]\n",
        "\n",
        "d_sub = {k:v for k,v in d.items() if k in sublist}\n",
        "\n",
        "plt.figure(figsize=(15, 6))\n",
        "\n",
        "label = {0: '50s', 1:'60s', 2:'70s', 3:'80s'}\n",
        "\n",
        "# label = {0: '60s', 1:'70s', 2:'80s', 3:'90s'}\n",
        "\n",
        "plt.axis(\"off\")\n",
        "# nx.draw(G, pos, node_color=\"#A0CBE2\", edge_color=\"#aaaaaa\")\n",
        "nx.draw(G_sub,\n",
        "#         pos = pos,\n",
        "        width=4,\n",
        "        node_color=\"#60acfc\",\n",
        "        edge_color =color_list,\n",
        "        edge_cmap=plt.cm.Blues,\n",
        "#         alpha = 0.5,\n",
        "        node_size=[v * 40 for v in d_sub.values()],\n",
        "#         with_labels = False,\n",
        "        labels = label,\n",
        "        font_size = 25,\n",
        "       )\n",
        "# pos = nx.spring_layout(G_sub)\n",
        "# for p in pos:  # raise text positions\n",
        "#     pos[p][1] += 0\n",
        "# nx.draw_networkx_labels(G_sub, pos,\n",
        "# #         alpha = 0.5,\n",
        "# #         with_labels = False,\n",
        "#         labels = label,\n",
        "#         font_size = 20,)\n",
        "# nx.draw_networkx_nodes(G_sub,pos = pos_sub, node_color=\"#60acfc\",node_size=[v * 3 for v in d_sub.values()], alpha=0.8)\n",
        "\n",
        "plt.savefig('./img/all_network_local_jazz.jpg', dpi = 600)\n",
        "\n",
        "plt.show() \n",
        "# G = nx.Graph()\n",
        "\n",
        "# G.clear()\n",
        "\n",
        "# row = np.array(graph[:, 0])\n",
        "# col = np.array(graph[:, 1])\n",
        "\n",
        "# data = np.ones((1, graph.shape[0])).reshape(-1)\n",
        "\n",
        "# n = max(max(row), max(col)) + 1\n",
        "\n",
        "# pos = {}\n",
        "\n",
        "# for i in range((maxYear - minYear + 10)*2):\n",
        "#     pos[i] = (i // 20, i % 20)\n",
        "\n",
        "# A = csr_matrix((data, (row, col)), shape=(n, n)).toarray()\n",
        "\n",
        "# A = np.where(A < 0, 0, A).astype('int')\n",
        "\n",
        "# G = nx.from_numpy_matrix(A) \n",
        "\n",
        "# G.remove_nodes_from(list(nx.isolates(G)))\n",
        "\n",
        "# G = G.to_directed()\n",
        "\n",
        "# color_list = [float(v['weight']*0.5) for (r,c,v) in G.edges(data=True)]\n",
        "\n",
        "# color_list = [int(((i/max(color_list))*8 + 2)) for i in color_list]\n",
        "\n",
        "# d = dict(G.degree)\n",
        "\n",
        "# plt.figure(figsize=(15, 6))\n",
        "\n",
        "\n",
        "# plt.axis(\"off\")\n",
        "# # nx.draw(G, pos, node_color=\"#A0CBE2\", edge_color=\"#aaaaaa\")\n",
        "# nx.draw(G,\n",
        "#         pos,\n",
        "#         width=color_list,\n",
        "#         node_color=\"#60acfc\",\n",
        "#         edge_color = 'b',\n",
        "#         alpha = 0.1\n",
        "#        )\n",
        "# nx.draw_networkx_nodes(G,pos, node_color=\"#60acfc\",node_size=[v * 3 for v in d.values()], alpha=0.8)\n",
        "\n",
        "# # plt.savefig('./img/all_network.jpg', dpi = 600)\n",
        "\n",
        "# plt.show() "
      ],
      "execution_count": null,
      "outputs": []
    },
    {
      "cell_type": "code",
      "metadata": {
        "collapsed": true,
        "id": "RPkFcKGKZupA"
      },
      "source": [
        "# pos = nx.spring_layout(G_sub)"
      ],
      "execution_count": null,
      "outputs": []
    },
    {
      "cell_type": "code",
      "metadata": {
        "collapsed": true,
        "scrolled": true,
        "id": "UA-tCEPjZupB"
      },
      "source": [
        "# 将fullData 通过不同年份和不同流派分割\n",
        "minYear = int(min(fullData['year']))\n",
        "\n",
        "minYear = round(minYear/10)*10\n",
        "\n",
        "maxYear = int(max(fullData['year']))\n",
        "\n",
        "maxYear = math.ceil(maxYear/10)*10\n",
        "\n",
        "fullData['year'] = fullData['year'].astype('int')\n",
        "\n",
        "# 正常数据\n",
        "for i in range(6):\n",
        "    \n",
        "    _table = pd.DataFrame(columns=fullData.iloc[:, 2:17].columns).drop(columns=['explicit'])\n",
        "    \n",
        "    for j in range(int((maxYear - minYear)/10)):\n",
        "        _data = fullData[(fullData['genre'] == list (genre.keys()) [list (genre.values()).index (i)]) & (fullData['year'] >= minYear + j * 10) & (fullData['year'] < minYear + (j+1) * 10)].iloc[:, 2:17].drop(columns=['explicit'])\n",
        "        a = _data.astype('float').mean()\n",
        "        a['year'] = minYear + j * 10\n",
        "        _table = _table.append(a, ignore_index=True)\n",
        "    \n",
        "    pd.DataFrame(sc.fit_transform(_table)).to_csv(\"./res/\"+ list(genre.keys()) [list (genre.values()).index (i)][0:3]+\".csv\")\n",
        "\n",
        "_table = pd.DataFrame(columns=fullData.iloc[:, 2:15].columns).drop(columns=['explicit'])\n",
        "    \n",
        "for j in range(int((maxYear - minYear))):\n",
        "    _data = fullData[(fullData['genre'] == list (genre.keys()) [list (genre.values()).index (0)]) & (fullData['year'] == minYear + j) ].iloc[:, 2:17].drop(columns=['explicit'])\n",
        "    a = _data.astype('float').mean()\n",
        "    a = a \n",
        "    a['year'] = minYear + j\n",
        "    _table = _table.append(a, ignore_index=True)\n",
        "\n",
        "pd.DataFrame(sc.fit_transform(_table)).to_csv(\"./res/\"+ list(genre.keys()) [list (genre.values()).index (0)][0:3]+\"_1.csv\")\n",
        "\n",
        "# 降维数据\n",
        "full_ver, full_n_eigVect, full_eigInd = pca(fullData_np, 7)\n",
        "\n",
        "N_ei = pd.DataFrame(full_n_eigVect)\n",
        "\n",
        "all_table_7 = pd.DataFrame(columns=fullData.iloc[:, 2:15].columns).drop(columns=['explicit'])\n",
        "\n",
        "for i in range(6):\n",
        "    \n",
        "    _table_7 = pd.DataFrame(columns=fullData.iloc[:, 2:15].columns).drop(columns=['explicit'])\n",
        "    \n",
        "    for j in range(int((maxYear - minYear)/10)):\n",
        "        _data = fullData[(fullData['genre'] == list (genre.keys()) [list (genre.values()).index (i)]) & (fullData['year'] >= minYear + j * 10) & (fullData['year'] < minYear + (j+1) * 10)].iloc[:, 2:15].drop(columns=['explicit'])\n",
        "        a = _data.astype('float').mean()\n",
        "        _table_7 = _table_7.append(a, ignore_index=True)\n",
        "        \n",
        "    pd.DataFrame(sc.fit_transform(np.dot(sc.fit_transform(_table_7.to_numpy()), full_n_eigVect))).to_csv(\"./res/\"+ list(genre.keys()) [list (genre.values()).index (i)][0:3]+\"_7_dim.csv\")\n",
        "\n",
        "    _table_7['genre'] = list (genre.keys()) [list (genre.values()).index (i)]\n",
        "    all_table_7 = all_table_7.append(_table_7, ignore_index=True)\n",
        "    \n",
        "_table_7 = pd.DataFrame(columns=fullData.iloc[:, 2:15].columns).drop(columns=['explicit'])\n",
        "    \n",
        "for j in range(int((maxYear - minYear))):\n",
        "    _data = fullData[(fullData['genre'] == list (genre.keys()) [list (genre.values()).index (2)]) & (fullData['year'] == minYear + j) ].iloc[:, 2:15].drop(columns=['explicit'])\n",
        "    a = _data.astype('float').mean()\n",
        "    _table_7 = _table_7.append(a, ignore_index=True)\n",
        "pd.DataFrame(sc.fit_transform(np.dot(sc.fit_transform(_table_7.to_numpy()), full_n_eigVect))).to_csv(\"./res/\"+ list(genre.keys()) [list (genre.values()).index (2)][0:3]+\"_1_7_dim.csv\")\n",
        "\n"
      ],
      "execution_count": null,
      "outputs": []
    },
    {
      "cell_type": "code",
      "metadata": {
        "id": "hWEgSxigZupC"
      },
      "source": [
        "# def show_label(id):\n",
        "#     return all_table_7['genre'][id]\n",
        "\n",
        "all_table_7\n",
        "\n"
      ],
      "execution_count": null,
      "outputs": []
    },
    {
      "cell_type": "code",
      "metadata": {
        "id": "bhtsT0XNZupC"
      },
      "source": [
        "# all_table 聚类\n",
        "\n",
        "all_table_7 = all_table_7.dropna(how = 'any')\n",
        "\n",
        "all_table_7_np = all_table_7.drop(columns=['genre']).to_numpy().astype('float')\n",
        "\n",
        "all_table_7_np = sc.fit_transform(all_table_7_np)\n",
        "\n",
        "# Convert the palette to vectors that will be drawn on the side of the matrix\n",
        "# networks = df.columns.get_level_values(\"network\")\n",
        "# network_colors = pd.Series(networks, index=df.columns).map(network_lut)\n",
        "\n",
        "# g = sns.clustermap(all_table_7_np, cmap=\"mako\",\n",
        "#                    col_cluster = False,\n",
        "#                    figsize=(20, 20),\n",
        "#                    standard_scale=1\n",
        "# #                    row_colors=network_colors, col_colors=network_colors,\n",
        "# #                    dendrogram_ratio=(.1, .2),\n",
        "# #                    cbar_pos=(.02, .32, .03, .2),\n",
        "# #                    linewidths=.75, figsize=(12, 13)\n",
        "#                   )\n",
        "\n",
        "plt.figure(figsize=(15, 6))\n",
        "\n",
        "Z = hierarchy.linkage(all_table_7_np, method ='ward',metric='euclidean')\n",
        "\n",
        "hierarchy.dendrogram(Z, show_leaf_counts=True, leaf_font_size=15., show_contracted=True)\n",
        "\n",
        "plt.savefig('./img/all_table.jpg', dpi=600)\n",
        "\n",
        "plt.show()\n",
        "\n",
        "# _60_art.to_csv('./res/_60_art.csv')"
      ],
      "execution_count": null,
      "outputs": []
    },
    {
      "cell_type": "code",
      "metadata": {
        "id": "Fa5mi8IuZupD"
      },
      "source": [
        "all_table_7"
      ],
      "execution_count": null,
      "outputs": []
    },
    {
      "cell_type": "code",
      "metadata": {
        "id": "dkclpXvuZupE"
      },
      "source": [
        "# only year 7dim\n",
        "_table_7 = pd.DataFrame(columns=fullData.iloc[:, 2:15].columns).drop(columns=['explicit'])\n",
        "\n",
        "# for j in range(int((maxYear - minYear))):\n",
        "#     _data = fullData[(fullData['year'] == minYear + j) ].iloc[:, 2:15].drop(columns=['explicit'])\n",
        "#     a = _data.astype('float').mean()\n",
        "#     _table_7 = _table_7.append(a, ignore_index=True)\n",
        "# pd.DataFrame(sc.fit_transform(np.dot(sc.fit_transform(_table_7.to_numpy()), n_eigVect))).to_csv(\"./res/only_year_1_7_dim.csv\")\n",
        "\n",
        "for j in range(int((maxYear - minYear))):\n",
        "    _data = fullData[(fullData['year'] == minYear + j) ].iloc[:, 2:17].drop(columns=['explicit'])\n",
        "    a = _data.astype('float').mean()\n",
        "    _table_7 = _table_7.append(a, ignore_index=True)\n",
        "pd.DataFrame(sc.fit_transform(_table_7)).to_csv(\"./res/only_year_1.csv\")\n",
        "\n",
        "minYear\n",
        "maxYear"
      ],
      "execution_count": null,
      "outputs": []
    },
    {
      "cell_type": "code",
      "metadata": {
        "scrolled": true,
        "id": "u9oKkzUEZupE"
      },
      "source": [
        "\n",
        "\n",
        "rock_song = pd.read_csv('./data/rock_song.csv')\n",
        "\n",
        "# rock_ver , rock_vec, rock_val = pca(rock_song.to_numpy(), 4)\n",
        "\n",
        "data_adjust = sc.fit_transform(rock_song)            # 本例对数据进行的是中心化处理（也可以换成标准化）\n",
        "covX = np.cov(data_adjust.T)               # 得到协方差矩阵\n",
        "\n",
        "ex = [[1,0.010185,0.271348],[0.010185,1,0.319343],[0.271348,0.319343,1]]\n",
        "\n",
        "np.linalg.eig(ex)\n"
      ],
      "execution_count": null,
      "outputs": []
    },
    {
      "cell_type": "code",
      "metadata": {
        "id": "xVv9LhnoZupF"
      },
      "source": [
        "eigenValue, eigenVec = np.linalg.eig(ex)\n",
        "\n",
        "eigValIndice=np.argsort(eigenValue)\n",
        "n_eigValIndice=eigValIndice[-1:-(4+1):-1]      #最大的n個特徵值的下標\n",
        "n_eigVect=eigenVec[:,n_eigValIndice]\n",
        "n_eigVal=eigenValue[n_eigValIndice]\n",
        "n_eigValIndice\n",
        "\n",
        "n_eigVal\n",
        "\n",
        "n_eigVect"
      ],
      "execution_count": null,
      "outputs": []
    },
    {
      "cell_type": "code",
      "metadata": {
        "id": "JB52-Ri3ZupF"
      },
      "source": [
        "eigVal"
      ],
      "execution_count": null,
      "outputs": []
    },
    {
      "cell_type": "code",
      "metadata": {
        "id": "DSHWau9zZupG"
      },
      "source": [
        "import pandas as pd\n",
        "import seaborn as sns\n",
        "sns.set_theme()\n",
        "\n",
        "# Load the brain networks example dataset\n",
        "df = sns.load_dataset(\"brain_networks\", header=[0, 1, 2], index_col=0)\n",
        "\n",
        "# Select a subset of the networks\n",
        "used_networks = [1, 5, 6, 7, 8, 12, 13, 17]\n",
        "used_columns = (df.columns.get_level_values(\"network\")\n",
        "                          .astype(int)\n",
        "                          .isin(used_networks))\n",
        "df = df.loc[:, used_columns]\n",
        "\n",
        "# Create a categorical palette to identify the networks\n",
        "network_pal = sns.husl_palette(8, s=.45)\n",
        "network_lut = dict(zip(map(str, used_networks), network_pal))\n",
        "\n",
        "# Convert the palette to vectors that will be drawn on the side of the matrix\n",
        "networks = df.columns.get_level_values(\"network\")\n",
        "network_colors = pd.Series(networks, index=df.columns).map(network_lut)\n",
        "\n",
        "# Draw the full plot\n",
        "g = sns.clustermap(df.corr(), center=0, cmap=\"vlag\",\n",
        "                   row_colors=network_colors, col_colors=network_colors,\n",
        "                   dendrogram_ratio=(.1, .2),\n",
        "                   cbar_pos=(.02, .32, .03, .2),\n",
        "                   linewidths=.75, figsize=(12, 13))\n",
        "\n",
        "g.ax_row_dendrogram.remove()"
      ],
      "execution_count": null,
      "outputs": []
    },
    {
      "cell_type": "code",
      "metadata": {
        "id": "xKjnLiaOZupH"
      },
      "source": [
        "df"
      ],
      "execution_count": null,
      "outputs": []
    },
    {
      "cell_type": "code",
      "metadata": {
        "collapsed": true,
        "id": "Xbl2LsY7ZupH"
      },
      "source": [
        "tips = sns.load_dataset(\"tips\")"
      ],
      "execution_count": null,
      "outputs": []
    },
    {
      "cell_type": "code",
      "metadata": {
        "id": "GXU9HMEbZupH"
      },
      "source": [
        "tips.dtypes"
      ],
      "execution_count": null,
      "outputs": []
    },
    {
      "cell_type": "code",
      "metadata": {
        "id": "7xbo8912ZupI"
      },
      "source": [
        "sns.set_theme(style=\"whitegrid\")\n",
        "\n",
        "a = np.loadtxt('./data/相关系数.txt')\n",
        "a = pd.DataFrame(a)\n",
        "a.index = artistData.drop(columns=['artist_name', 'artist_id', 'count', 'popularity', 'genre']).columns\n",
        "a.columns = a.index\n",
        "\n",
        "plt.figure(figsize=(9,9))\n",
        "\n",
        "g = sns.heatmap(data = a, cmap=\"vlag\", square=True, annot=True)\n",
        "\n",
        "plt.tight_layout()\n",
        "\n",
        "plt.savefig('./img/相关系数.jpg', dpi = 600)"
      ],
      "execution_count": null,
      "outputs": []
    },
    {
      "cell_type": "code",
      "metadata": {
        "collapsed": true,
        "id": "QqaDwCmwZupI"
      },
      "source": [
        ""
      ],
      "execution_count": null,
      "outputs": []
    },
    {
      "cell_type": "code",
      "metadata": {
        "collapsed": true,
        "id": "gTBjX9lPZupJ"
      },
      "source": [
        ""
      ],
      "execution_count": null,
      "outputs": []
    }
  ]
}